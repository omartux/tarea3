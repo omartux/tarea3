{
  "nbformat": 4,
  "nbformat_minor": 0,
  "metadata": {
    "colab": {
      "provenance": [],
      "authorship_tag": "ABX9TyNneo+4y8sfWYS2aaLJuqo4",
      "include_colab_link": true
    },
    "kernelspec": {
      "name": "python3",
      "display_name": "Python 3"
    },
    "language_info": {
      "name": "python"
    }
  },
  "cells": [
    {
      "cell_type": "markdown",
      "metadata": {
        "id": "view-in-github",
        "colab_type": "text"
      },
      "source": [
        "<a href=\"https://colab.research.google.com/github/omartux/tarea3/blob/main/Tarea_3_Template_Matching.ipynb\" target=\"_parent\"><img src=\"https://colab.research.google.com/assets/colab-badge.svg\" alt=\"Open In Colab\"/></a>"
      ]
    },
    {
      "cell_type": "markdown",
      "source": [
        "# MCC 2023 \n",
        "# VA Tarea 3 \n",
        "# Template matching\n",
        "- Omar Castillo Alarcon\n",
        "- Gludher Quispe Cotacallapa\n",
        "- Edwin Fredy Chambi Mamani\n",
        "- Erwin Cruz Mamani\n"
      ],
      "metadata": {
        "id": "z0Ga7MwD73bg"
      }
    },
    {
      "cell_type": "code",
      "source": [
        "# template matching utilizando la distancia euclidiana en \n",
        "# lugar de la multiplicacion punto a punto, \n",
        "\n",
        "import cv2 as cv\n",
        "import numpy as np\n",
        "import time # modulo para calculo de costo y complejidad\n",
        "\n",
        "start_time = time.perf_counter ()\n",
        "\n",
        "#creacion de ventana para el resultado final, esta definida en tamaño para que no \n",
        "#ocupe demasiada pantalla.\n",
        "cv.namedWindow('Resultado', cv.WINDOW_NORMAL)\n",
        "cv.resizeWindow('Resultado', 640,480)\n",
        "# Lee la imagen de origen y la imagen del template:\n",
        "\n",
        "img = cv.imread('imagen.png', 0)  # Lee la imagen para analizar  en escala de grises\n",
        "template = cv.imread('template.png', 0)  # Lee la imagen del template en escala de grises\n",
        "\n",
        "# Calcula las dimensiones de la imagen y el template:\n",
        "\n",
        "img_height, img_width = img.shape\n",
        "print(img_height)\n",
        "print(img_width) \n",
        "template_height, template_width = template.shape\n",
        "print (template_height)\n",
        "print (template_width)\n",
        "\n",
        "print ('No estoy colgado solo soy lento, espere por favor')\n",
        "# Crea una matriz para almacenar los resultados de la convolucion:\n",
        "\n",
        "result = np.zeros((img_height - template_height, img_width - template_width))\n",
        "\n",
        "# Realiza el template matching utilizando la distancia euclidiana:\n",
        "\n",
        "for y in range(img_height - template_height):\n",
        "    for x in range(img_width - template_width):\n",
        "        roi = img[y:y + template_height, x:x + template_width]  # Extrae la region de interes (ROI)\n",
        "        diff = template - roi  # Calcula la diferencia entre el template y la ROI\n",
        "        distance = np.sqrt(np.sum(np.square(diff)))  # Calcula la distancia euclidiana\n",
        "        result[y, x] = distance\n",
        "\n",
        "# Encuentra la ubicacion del mejor ajuste:\n",
        "min_val, max_val, min_loc, max_loc = cv.minMaxLoc(result)\n",
        "best_match_loc = min_loc  # Cambiar a max_loc si se desea encontrar el peor ajuste\n",
        "\n",
        "# Dibuja un rectangulo en la ubicacion del mejor ajuste de grosor 4\n",
        "top_left = best_match_loc\n",
        "bottom_right = (top_left[0] + template_width, top_left[1] + template_height)\n",
        "cv.rectangle(img, top_left, bottom_right, 255, 4)  # Dibuja el rectangulo\n",
        "\n",
        "# Muestra la imagen resultante en la ventana creada al inicio\n",
        "\n",
        "cv.imshow('Resultado', img)\n",
        "cv.imwrite('salida.png', img)\n",
        "end_time = time.perf_counter ()\n",
        "print(end_time - start_time, \"seconds\")\n",
        "cv.waitKey(0)\n",
        "cv.destroyAllWindows()\n",
        "\n",
        "# lor archivos 'imagen.jpg' y 'template.jpg',se encuentran en el mismo directorio del script.\n",
        "# la implementacion es muy costosa por los for anidados en imagenes grandes"
      ],
      "metadata": {
        "id": "wAt-yGRD8CQ4"
      },
      "execution_count": null,
      "outputs": []
    }
  ]
}