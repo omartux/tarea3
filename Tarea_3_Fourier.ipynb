{
  "nbformat": 4,
  "nbformat_minor": 0,
  "metadata": {
    "colab": {
      "provenance": [],
      "authorship_tag": "ABX9TyPp+54yB0ydrtywsO9DhmzU",
      "include_colab_link": true
    },
    "kernelspec": {
      "name": "python3",
      "display_name": "Python 3"
    },
    "language_info": {
      "name": "python"
    }
  },
  "cells": [
    {
      "cell_type": "markdown",
      "metadata": {
        "id": "view-in-github",
        "colab_type": "text"
      },
      "source": [
        "<a href=\"https://colab.research.google.com/github/omartux/tarea3/blob/main/Tarea_3_Fourier.ipynb\" target=\"_parent\"><img src=\"https://colab.research.google.com/assets/colab-badge.svg\" alt=\"Open In Colab\"/></a>"
      ]
    },
    {
      "cell_type": "markdown",
      "source": [
        "# MCC 2023 \n",
        "# VA Tarea 3 \n",
        "# FFT Iterativo\n",
        "- Omar Castillo Alarcon\n",
        "- Gludher Quispe Cotacallapa\n",
        "- Edwin Fredy Chambi Mamani\n",
        "- Erwin Cruz Mamani"
      ],
      "metadata": {
        "id": "tB57xBKo8qRp"
      }
    },
    {
      "cell_type": "code",
      "source": [
        "import cv2\n",
        "import numpy as np\n",
        "\n",
        "def fft2_iterative(img):\n",
        "    # Obtiene las dimensiones de la imagen\n",
        "    height, width = img.shape\n",
        "\n",
        "    # Calcula el número de puntos de datos en la FFT2\n",
        "    num_points = height * width\n",
        "\n",
        "    # Realiza la transformada en la primera dimensión (filas)\n",
        "    for i in range(height):\n",
        "        img[i, :] = np.fft.fft(img[i, :])\n",
        "\n",
        "    # Realiza la transformada en la segunda dimensión (columnas)\n",
        "    for j in range(width):\n",
        "        img[:, j] = np.fft.fft(img[:, j])\n",
        "\n",
        "    return img\n",
        "\n",
        "# Carga la imagen del template\n",
        "template = cv2.imread('template.jpg', 0)\n",
        "\n",
        "# Verifica si la imagen se cargó correctamente\n",
        "if template is None:\n",
        "    print(\"Error al cargar la imagen.\")\n",
        "else:\n",
        "    # Aplica la FFT2 utilizando enfoque iterativo\n",
        "    fft_result = fft2_iterative(template.astype(np.complex128))\n",
        "\n",
        "    # Muestra la parte real y la parte imaginaria de la FFT2\n",
        "    magnitude_spectrum = 20 * np.log(np.abs(fft_result))\n",
        "    phase_spectrum = np.angle(fft_result)\n",
        "\n",
        "    cv2.imshow('Magnitud Spectrum', magnitude_spectrum.astype(np.uint8))\n",
        "    cv2.imshow('Phase Spectrum', phase_spectrum.astype(np.uint8))\n",
        "    cv2.waitKey(0)\n",
        "    cv2.destroyAllWindows()\n"
      ],
      "metadata": {
        "id": "EWJ6mQGN8trg"
      },
      "execution_count": null,
      "outputs": []
    },
    {
      "cell_type": "markdown",
      "source": [],
      "metadata": {
        "id": "TyiN_BnVDIxK"
      }
    }
  ]
}